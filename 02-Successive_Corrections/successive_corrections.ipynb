{
 "cells": [
  {
   "cell_type": "code",
   "execution_count": 168,
   "id": "55c27f76",
   "metadata": {},
   "outputs": [],
   "source": [
    "\"\"\"\n",
    "Created By    : Jared W. Marquis\n",
    "Creation Date : 01 August 2022\n",
    "Course        : ATSC 528 - Atmospheric Data Analysis\n",
    "Assignment    : #02 - Successive Corrections\n",
    "\n",
    "Purpose:\n",
    "Script to take sparse upper air observations and analyze them on a\n",
    "polar stereographic map projection using successive corrections.\n",
    "[PUT MORE INFORMATION HERE - I.E., WHAT SPECIFIC THING IS BEING DONE]\n",
    "\n",
    "\"\"\"\n",
    "__author__    = \"Jared W. Marquis\"\n",
    "__contact__   = \"jared.marquis@und.edu\""
   ]
  },
  {
   "cell_type": "code",
   "execution_count": 169,
   "id": "7335135f",
   "metadata": {},
   "outputs": [],
   "source": [
    "### Import Required Modules (shouldn't need to change) ###\n",
    "import numpy as np                 #numpy for math\n",
    "import matplotlib.pyplot as plt    #matplotlib for plotting\n",
    "import cartopy.crs as ccrs         #cartopy for plotting on map\n",
    "import cartopy.feature as cfeature #cartopy basic shapefiles"
   ]
  },
  {
   "cell_type": "code",
   "execution_count": 170,
   "id": "e55bf048",
   "metadata": {},
   "outputs": [
    {
     "name": "stdout",
     "output_type": "stream",
     "text": [
      "[51.47 43.83 53.55 53.75 64.3  69.1  80.   68.3  63.75 48.53 82.52 51.27\n",
      " 58.47 53.97 74.72 43.93 60.02 68.78 58.1  65.28 58.83 58.75 53.32 50.68\n",
      " 50.22 53.9  35.05 45.45 57.75 40.35 58.68 40.17 42.75 35.23 61.17 55.03\n",
      " 45.07 32.5  60.78 46.77 33.57 36.13 43.57 25.9  71.3  42.93 35.97 46.87\n",
      " 55.2  41.66 32.9  27.77 37.77 39.86 29.37 32.17 39.78 29.37 42.7  41.62\n",
      " 31.87 24.55 64.82 33.37 35.23 38.95 32.79 48.22 39.13 44.48 36.08 43.89\n",
      " 38.95 39.43 40.15 48.57 19.72 32.32 30.5  18.43 10.58 41.13 30.12 34.73\n",
      " 40.87 34.83 31.95 19.43 25.75 42.37 34.78 25.82 44.83 23.18 27.7  30.23\n",
      " 32.85 24.57 33.02 37.73 41.32 35.4  40.87 64.5  47.7  66.87 35.22 40.67\n",
      " 40.5  44.05 39.57 43.07 43.23 37.2   9.98 18.43 37.23 32.47 30.25 40.78\n",
      " 44.92 57.16 27.7  47.46 30.4  39.07 32.12 47.95 44.07 36.05 37.93 32.37\n",
      " 59.52 46.38 60.72]\n"
     ]
    }
   ],
   "source": [
    "### Read in observations ###\n",
    "directory = \"/Users/techadmin/ATMO528/ATSC528/\"\n",
    "filename = \"RAOBs_201903131200.txt\"\n",
    "data_str = np.loadtxt(\"RAOBs_201903131200.txt\", delimiter = ',', dtype = str)\n",
    "# file = open(directory + filename)\n",
    "# data = file.read()\n",
    "latitude = data_str[:, 1].astype(float)\n",
    "longitude = data_str[:, 2].astype(float)\n",
    "g_h = data_str[:, 3].astype(float)\n",
    "\n",
    "print(latitude)"
   ]
  },
  {
   "cell_type": "code",
   "execution_count": 171,
   "id": "9464917a",
   "metadata": {},
   "outputs": [
    {
     "name": "stdout",
     "output_type": "stream",
     "text": [
      "[ 0  1  2  3  4  5  6  7  8  9 10 11 12 13 14 15 16 17 18 19 20 21]\n",
      "(28, 22)\n"
     ]
    }
   ],
   "source": [
    "### Set up analysis map with a 22x28 rectangular grid of points ###\n",
    "phi0 = np.radians(60) #phi naught , 60N\n",
    "psi0 = np.radians(90)-phi0\n",
    "lambda0 = -115 #lamda naught, 115W\n",
    "delx = 1.27 #cm\n",
    "dely = 1.27 #cm\n",
    "x0 = 18.90 #cm\n",
    "y0 = -6.30 #cm \n",
    "x_range = np.arange(22)\n",
    "y_range = np.arange(28)\n",
    "print(x_range)\n",
    "x_calculation = x0 + (delx*x_range) \n",
    "y_calculation = y0 + (dely*y_range)\n",
    "rho = 6371000 #meters\n",
    "map_scale = 1/15000000 #15 million\n",
    "\n",
    "x = np.array(x_calculation)\n",
    "y = np.array(y_calculation)\n",
    "x_g, y_g = np.meshgrid(x,y)\n",
    "print(x_g.shape) "
   ]
  },
  {
   "cell_type": "code",
   "execution_count": 172,
   "id": "64629e3a",
   "metadata": {},
   "outputs": [
    {
     "name": "stdout",
     "output_type": "stream",
     "text": [
      "(28, 22)\n"
     ]
    },
    {
     "data": {
      "text/plain": [
       "<matplotlib.colorbar.Colorbar at 0x7f858bc73070>"
      ]
     },
     "execution_count": 172,
     "metadata": {},
     "output_type": "execute_result"
    },
    {
     "data": {
      "image/png": "[encoded data removed]",
      "text/plain": [
       "<Figure size 640x480 with 2 Axes>"
      ]
     },
     "metadata": {},
     "output_type": "display_data"
    }
   ],
   "source": [
    "### convert obs lat/long to x,y ###\n",
    "x_g_m = x_g/100\n",
    "y_g_m = y_g/100\n",
    "print(x_g_m.shape)\n",
    "numer = (((((x_g_m)/map_scale)**2)+(((y_g_m)/map_scale)**2))**(1/2))\n",
    "denom = rho*(1+(np.cos(psi0)))\n",
    "psi = (np.pi/2) - (2*(np.arctan(numer/denom))) #x-cord, y-cord to latitude?\n",
    "psi = np.degrees(psi)\n",
    "\n",
    "lamda = (np.degrees(np.arctan(y_g_m/x_g_m)))+lambda0 #x-cord, y-cord to longitude?\n",
    "# print(lamda)\n",
    "\n",
    "# print(psi,lamda)\n",
    "plt.imshow(lamda)\n",
    "plt.colorbar()"
   ]
  },
  {
   "cell_type": "code",
   "execution_count": null,
   "id": "fdc35da3",
   "metadata": {},
   "outputs": [
    {
     "name": "stdout",
     "output_type": "stream",
     "text": [
      "R1 0.10219480328028566\n",
      "dik [0.18976604 0.31961906 0.23463264 0.12319106 0.16087451 0.20651054\n",
      " 0.31407027 0.18903315 0.22413118 0.19792455 0.13910497 0.13363053\n",
      " 0.33907702 0.15969883 0.23001307 0.14356107 0.27959105 0.27875306\n",
      " 0.25103602 0.19791614 0.29544642 0.22020362 0.30561678 0.26291077\n",
      " 0.25490707 0.3093802  0.1818103  0.32811486 0.30346252 0.16088085\n",
      " 0.35501021 0.28184589 0.29369416 0.29312424 0.12266541 0.32080359\n",
      " 0.35111844 0.33794858 0.24820357 0.21821133 0.31483715 0.26523457\n",
      " 0.21853421 0.31428465 0.26707474 0.25017322 0.27744923 0.41642088\n",
      " 0.33206131 0.23704141 0.25263611 0.29745899 0.15376558 0.2134924\n",
      " 0.238998   0.32671259 0.30466901 0.31412242 0.28851989 0.2669778\n",
      " 0.19550116 0.37969957 0.32232047 0.36484111 0.52794217 0.62649935\n",
      " 0.22092268 0.33047606 0.29587769 0.1861318  0.29508863 0.28855791\n",
      " 0.41223307 0.41272047 0.1583364  0.34711322 0.41007074 0.2181238\n",
      " 0.35701829 0.33943684 0.3674227  0.24693058 0.41657379 0.24299489\n",
      " 0.19732287 0.23538554 0.27366061 0.31625823 0.10597331 0.1299771\n",
      " 0.2756974  0.25989574 0.29334864 0.19277066 0.18840289 0.18398618\n",
      " 0.29130253 0.31967549 0.55605472 0.51476578 0.27295634 0.30900087\n",
      " 0.34043946 0.19217257 0.13781775 0.14038996 0.38619448 0.14690968\n",
      " 0.35691566 0.25174498 0.2654464  0.11217909 0.19324667 0.22310435\n",
      " 0.32850415 0.40871973 0.26916069]\n"
     ]
    },
    {
     "ename": "TypeError",
     "evalue": "'>' not supported between instances of 'float' and 'builtin_function_or_method'",
     "output_type": "error",
     "traceback": [
      "\u001b[0;31m---------------------------------------------------------------------------\u001b[0m",
      "\u001b[0;31mTypeError\u001b[0m                                 Traceback (most recent call last)",
      "Cell \u001b[0;32mIn[180], line 58\u001b[0m\n\u001b[1;32m     56\u001b[0m       dik \u001b[38;5;241m=\u001b[39m dik[dik\u001b[38;5;241m>\u001b[39m\u001b[38;5;241m=\u001b[39mR1]\n\u001b[1;32m     57\u001b[0m       \u001b[38;5;28mprint\u001b[39m(\u001b[38;5;124m'\u001b[39m\u001b[38;5;124mdik\u001b[39m\u001b[38;5;124m'\u001b[39m,dik)\n\u001b[0;32m---> 58\u001b[0m       w\u001b[38;5;241m.\u001b[39mappend(\u001b[43mcressman\u001b[49m\u001b[43m(\u001b[49m\u001b[43mR1\u001b[49m\u001b[43m,\u001b[49m\u001b[43m \u001b[49m\u001b[43mdik\u001b[49m\u001b[43m)\u001b[49m)\n\u001b[1;32m     59\u001b[0m \u001b[38;5;66;03m#       w = cressman(R1,dik)\u001b[39;00m\n\u001b[1;32m     60\u001b[0m       \u001b[38;5;28mprint\u001b[39m(\u001b[38;5;124m'\u001b[39m\u001b[38;5;124mw\u001b[39m\u001b[38;5;124m'\u001b[39m, w)\n",
      "Cell \u001b[0;32mIn[180], line 38\u001b[0m, in \u001b[0;36mcressman\u001b[0;34m(R, dik)\u001b[0m\n\u001b[1;32m     36\u001b[0m \u001b[38;5;28;01mdef\u001b[39;00m \u001b[38;5;21mcressman\u001b[39m(R, dik):\n\u001b[1;32m     37\u001b[0m         \u001b[38;5;66;03m# if dik.any <=R:\u001b[39;00m\n\u001b[0;32m---> 38\u001b[0m         \u001b[38;5;28;01mif\u001b[39;00m \u001b[43mdik\u001b[49m\u001b[38;5;241;43m.\u001b[39;49m\u001b[43many\u001b[49m\u001b[43m \u001b[49m\u001b[38;5;241;43m<\u001b[39;49m\u001b[43mR\u001b[49m:\n\u001b[1;32m     39\u001b[0m             numerator \u001b[38;5;241m=\u001b[39m (R\u001b[38;5;241m*\u001b[39m\u001b[38;5;241m*\u001b[39m\u001b[38;5;241m2\u001b[39m) \u001b[38;5;241m-\u001b[39m (dik\u001b[38;5;241m*\u001b[39m\u001b[38;5;241m*\u001b[39m\u001b[38;5;241m2\u001b[39m)\n\u001b[1;32m     40\u001b[0m             denominator \u001b[38;5;241m=\u001b[39m (R\u001b[38;5;241m*\u001b[39m\u001b[38;5;241m*\u001b[39m\u001b[38;5;241m2\u001b[39m) \u001b[38;5;241m+\u001b[39m (dik\u001b[38;5;241m*\u001b[39m\u001b[38;5;241m*\u001b[39m\u001b[38;5;241m2\u001b[39m)\n",
      "\u001b[0;31mTypeError\u001b[0m: '>' not supported between instances of 'float' and 'builtin_function_or_method'"
     ]
    }
   ],
   "source": [
    "### Create function for Cressman Analysis ###\n",
    "sigma = ((1+np.sin(np.radians(60)))/(1+np.sin(np.radians(latitude))))\n",
    "\n",
    "x_ob = rho*sigma*(np.cos(np.radians(latitude)))*(np.cos(np.radians(longitude)+np.radians(115))) #converting coords to x\n",
    "y_ob = rho*sigma*(np.cos(np.radians(latitude)))*(np.sin(np.radians(longitude)+np.radians(115))) #converting coords to y\n",
    "# print(y_ob.shape)\n",
    "x_ob = x_ob * map_scale\n",
    "y_ob = y_ob * map_scale\n",
    "# print('x_ob', x_ob)\n",
    "# print('y_ob', y_ob)\n",
    "dmin = 0.0\n",
    "\n",
    "for i in range(len(x_ob)):\n",
    "      # distance_analysis_to_ob = np.sqrt(((x_g_m[i,j]-x_ob)**2)+((y_g_m[i,j]-y_ob)**2))\n",
    "      distance_ob_to_ob = np.sqrt(((x_ob[i]-x_ob)**2)+((y_ob[i]-y_ob)**2))\n",
    "      # print(\"with zero =\",len(distance_ob_to_ob))\n",
    "      distance_ob_to_ob = np.delete(distance_ob_to_ob,i)\n",
    "      #distance_ob_to_ob = distance_ob_to_ob[distance_ob_to_ob>1e-10] #------------told in class that dmin = avg minimum distance between obs.\n",
    "      # print(\"without zero =\",len(distance_ob_to_ob))\n",
    "      #print('distance_ob_to_ob', distance_ob_to_ob)\n",
    "      #print('distance_ob_to_ob_shape', distance_ob_to_ob.min())\n",
    "      dmin = dmin + np.amin(distance_ob_to_ob)   \n",
    "      # print('dmin is', dmin)\n",
    "      #dmin = distance_ob_to_ob.min()\n",
    "      # print(temp)\n",
    "\n",
    "dmin = dmin/len(x_ob)\n",
    "\n",
    "# dmin = dmin *100 #converting to cm?\n",
    "\n",
    "R1 = 4*dmin\n",
    "R2 = 2.5*dmin\n",
    "R3 = 1.5*dmin\n",
    "print('R1', R1)\n",
    "\n",
    "def cressman(R, dik):\n",
    "        if dik.any <=R:\n",
    "            numerator = (R**2) - (dik**2)\n",
    "            denominator = (R**2) + (dik**2)\n",
    "            weight = numerator / denominator #renamed weight as something such as easier naming for later\n",
    "    #print('numerator', numerator)\n",
    "    #print('denominator', denominator)\n",
    "            print('weight', weight)\n",
    "        else:\n",
    "                weight=0\n",
    "    #print('weight', weight)\n",
    "        return weight\n",
    "\n",
    "fa = np.zeros((28,22))\n",
    "w = []\n",
    "for i in range(len(x_g_m)):\n",
    "    for j in range(len(x_g_m[i])):\n",
    "              distance_analysis_to_ob = np.sqrt(((x_g_m[i,j]-x_ob)**2)+((y_g_m[i,j]-y_ob)**2))\n",
    "              dik = distance_analysis_to_ob[distance_analysis_to_ob !=0]\n",
    "              dik = dik[dik>=R1]\n",
    "              print('dik',dik)\n",
    "              w.append(cressman(R1, dik))\n",
    "        #       w = cressman(R1,dik)\n",
    "              print('w', w)\n",
    "              fa[i,j] = np.nansum(w*g_h)/np.nansum(w)\n",
    "              \n",
    "\n",
    "print('D_min =',dmin)\n",
    "print('fa', fa)\n",
    "# plt.contour(fa)"
   ]
  },
  {
   "cell_type": "code",
   "execution_count": 165,
   "id": "8d5634ab",
   "metadata": {},
   "outputs": [
    {
     "name": "stdout",
     "output_type": "stream",
     "text": [
      "weight [0.99868881 0.99893938 0.99782872 0.99847092 0.99751463 0.99690128\n",
      " 0.99585853 0.99609041 0.99752925 0.99837281 0.9954709  0.99873646\n",
      " 0.99812834 0.99828283 0.99644701 0.99868195 0.99748519 0.99714361\n",
      " 0.99802304 0.99653775 0.99710726 0.99804728 0.9981549  0.99717347\n",
      " 0.99855886 0.99733942 0.9990321  0.99892952 0.99521404 0.99944429\n",
      " 0.99490905 0.99902467 0.99918639 0.99928128 0.99539871 0.99675245\n",
      " 0.99917809 0.99966899 0.99457419 0.99877785 0.99976606 0.99965336\n",
      " 0.99816714 0.99967139 0.99497938 0.99928762 0.99962039 0.99882906\n",
      " 0.99430595 0.9991853  0.99977867 0.99964562 0.99926447 0.99896845\n",
      " 0.99947516 0.99881746 0.99896692 0.99946528 0.99932547 0.99933293\n",
      " 0.99909685 0.99998274 0.99550199 0.99977609 0.99869605 0.99935825\n",
      " 0.99956257 0.99846845 0.99879674 0.99919422 0.99965233 0.99907162\n",
      " 0.99948902 0.99950723 0.99943884 0.99885176 0.9922084  0.99975625\n",
      " 0.99986756 0.99943667 0.99871484 0.99908771 0.99974728 0.99962593\n",
      " 0.99838747 0.99962208 0.99934881 0.99956611 0.99995069 0.99772214\n",
      " 0.99966741 0.99995634 0.9990898  0.99914933 0.99965898 0.99987468\n",
      " 0.99831543 0.99998198 0.99818537 0.9978405  0.99924051 0.99944291\n",
      " 0.99930412 0.99443637 0.99799419 0.99465832 0.9994566  0.9993982\n",
      " 0.99943852 0.99884683 0.99813762 0.99864597 0.99922482 0.99959833\n",
      " 0.99967283 0.99964447 0.9994971  0.9996644  0.99982336 0.99853751\n",
      " 0.99764812 0.99376653 0.99993887 0.99832421 0.99987366 0.9993526\n",
      " 0.99881089 0.99745399 0.99885377 0.99843491 0.99950475 0.99933476\n",
      " 0.9961007  0.99903725 0.99634525]\n",
      "weight [0.99664679 0.99728705 0.99445092 0.99609022 0.99364977 0.9920864\n",
      " 0.98943198 0.99002187 0.99368704 0.99583968 0.98844632 0.99676853\n",
      " 0.99521553 0.99560992 0.99092948 0.99662925 0.9935747  0.99270389\n",
      " 0.99494676 0.99116051 0.99261125 0.99500864 0.99528334 0.99278\n",
      " 0.99631482 0.99320301 0.99752406 0.99726186 0.98779351 0.998578\n",
      " 0.98701871 0.99750505 0.99791848 0.9981611  0.98826283 0.99170728\n",
      " 0.99789726 0.99915284 0.98616845 0.99687428 0.99940121 0.99911285\n",
      " 0.99531457 0.99915897 0.98719734 0.99817733 0.99902847 0.99700514\n",
      " 0.98548769 0.9979157  0.99943349 0.99909303 0.99811812 0.99736136\n",
      " 0.99865697 0.99697548 0.99735744 0.9986317  0.99827412 0.99829319\n",
      " 0.99768956 0.99995582 0.98852535 0.99942688 0.99666528 0.99835793\n",
      " 0.99888056 0.9960839  0.99692255 0.9979385  0.99911022 0.99762507\n",
      " 0.99869242 0.998739   0.99856406 0.99706314 0.98017401 0.99937611\n",
      " 0.99966099 0.9985585  0.99671329 0.99766621 0.99935316 0.99904266\n",
      " 0.99587712 0.99903282 0.9983338  0.99888962 0.99987377 0.99417903\n",
      " 0.99914879 0.99988823 0.99767154 0.99782372 0.99912721 0.99967922\n",
      " 0.99569316 0.99995388 0.99536111 0.99448098 0.99805685 0.99857447\n",
      " 0.9982195  0.98581864 0.99487316 0.98638204 0.99860949 0.99846012\n",
      " 0.99856325 0.99705053 0.99523923 0.99653735 0.99801674 0.99897206\n",
      " 0.99916265 0.99909009 0.99871308 0.99914109 0.99954786 0.99626029\n",
      " 0.9939902  0.98411953 0.99984351 0.99571557 0.9996766  0.99834349\n",
      " 0.99695871 0.99349514 0.99706827 0.99599827 0.99873264 0.99829786\n",
      " 0.99004805 0.99753721 0.99067043]\n",
      "weight [0.99071321 0.99248216 0.98466154 0.98917712 0.98245947 0.97817132\n",
      " 0.97091758 0.97252665 0.98256184 0.98848615 0.9682327  0.99104941\n",
      " 0.98676607 0.98785275 0.97500563 0.99066477 0.98225329 0.97986361\n",
      " 0.986026   0.9756373  0.97960962 0.98619637 0.98695287 0.98007234\n",
      " 0.98979681 0.98123287 0.99313748 0.99241252 0.96645704 0.99605499\n",
      " 0.9643522  0.99308491 0.99422868 0.99490027 0.96773339 0.97713323\n",
      " 0.99416995 0.99764855 0.96204567 0.99134151 0.99833759 0.99753765\n",
      " 0.98703888 0.99766555 0.96483722 0.99494521 0.99730364 0.99170303\n",
      " 0.96020143 0.99422099 0.99842716 0.99748266 0.9947813  0.99268759\n",
      " 0.99627381 0.99162109 0.99267675 0.99620378 0.99521323 0.99526605\n",
      " 0.99359525 0.99987728 0.96844779 0.99840881 0.99076427 0.99544534\n",
      " 0.99689352 0.98915969 0.99147486 0.99428408 0.99753033 0.99341688\n",
      " 0.99637206 0.99650114 0.99601635 0.9918633  0.94588153 0.99826794\n",
      " 0.99905859 0.99600096 0.99089684 0.99353066 0.99820425 0.99734298\n",
      " 0.98858937 0.99731569 0.9953785  0.99691864 0.99964941 0.98391387\n",
      " 0.99763732 0.99968955 0.99354543 0.99396645 0.99757746 0.9991092\n",
      " 0.98808218 0.99987189 0.98716712 0.98474423 0.99461167 0.99604521\n",
      " 0.99506199 0.96109773 0.98582338 0.96262477 0.99614225 0.99572841\n",
      " 0.99601412 0.99182844 0.98683136 0.99041105 0.99450064 0.9971472\n",
      " 0.99767577 0.99747453 0.99642931 0.99761596 0.99874455 0.98964633\n",
      " 0.98339483 0.9565016  0.99956537 0.98814396 0.99910192 0.99540534\n",
      " 0.99157474 0.98203483 0.99187746 0.98892348 0.99648351 0.99527898\n",
      " 0.9725981  0.99317387 0.97429767]\n",
      "cressman_1 [0.99868881 0.99893938 0.99782872 0.99847092 0.99751463 0.99690128\n",
      " 0.99585853 0.99609041 0.99752925 0.99837281 0.9954709  0.99873646\n",
      " 0.99812834 0.99828283 0.99644701 0.99868195 0.99748519 0.99714361\n",
      " 0.99802304 0.99653775 0.99710726 0.99804728 0.9981549  0.99717347\n",
      " 0.99855886 0.99733942 0.9990321  0.99892952 0.99521404 0.99944429\n",
      " 0.99490905 0.99902467 0.99918639 0.99928128 0.99539871 0.99675245\n",
      " 0.99917809 0.99966899 0.99457419 0.99877785 0.99976606 0.99965336\n",
      " 0.99816714 0.99967139 0.99497938 0.99928762 0.99962039 0.99882906\n",
      " 0.99430595 0.9991853  0.99977867 0.99964562 0.99926447 0.99896845\n",
      " 0.99947516 0.99881746 0.99896692 0.99946528 0.99932547 0.99933293\n",
      " 0.99909685 0.99998274 0.99550199 0.99977609 0.99869605 0.99935825\n",
      " 0.99956257 0.99846845 0.99879674 0.99919422 0.99965233 0.99907162\n",
      " 0.99948902 0.99950723 0.99943884 0.99885176 0.9922084  0.99975625\n",
      " 0.99986756 0.99943667 0.99871484 0.99908771 0.99974728 0.99962593\n",
      " 0.99838747 0.99962208 0.99934881 0.99956611 0.99995069 0.99772214\n",
      " 0.99966741 0.99995634 0.9990898  0.99914933 0.99965898 0.99987468\n",
      " 0.99831543 0.99998198 0.99818537 0.9978405  0.99924051 0.99944291\n",
      " 0.99930412 0.99443637 0.99799419 0.99465832 0.9994566  0.9993982\n",
      " 0.99943852 0.99884683 0.99813762 0.99864597 0.99922482 0.99959833\n",
      " 0.99967283 0.99964447 0.9994971  0.9996644  0.99982336 0.99853751\n",
      " 0.99764812 0.99376653 0.99993887 0.99832421 0.99987366 0.9993526\n",
      " 0.99881089 0.99745399 0.99885377 0.99843491 0.99950475 0.99933476\n",
      " 0.9961007  0.99903725 0.99634525]\n"
     ]
    }
   ],
   "source": [
    "### Perform 500mb geopotential height analyses using a Cressman weighting Function###\n",
    "#Use radii of influence 4, 2.5, 1.5 *dmin\n",
    "# print('dmin', dmin)\n",
    "# print('dik', dik)\n",
    "\n",
    "cressman_1 = cressman(R1, dik)\n",
    "cressman_2 = cressman(R2, dik)\n",
    "cressman_3 = cressman(R3, dik)\n",
    "\n",
    "print('cressman_1', cressman_1)"
   ]
  },
  {
   "cell_type": "code",
   "execution_count": 166,
   "id": "c4450fdd",
   "metadata": {},
   "outputs": [
    {
     "name": "stdout",
     "output_type": "stream",
     "text": [
      "5442.61896111529\n"
     ]
    }
   ],
   "source": [
    "### First analysis, no successive corrections ###\n",
    "analysis_1 = np.sum(w*dik*g_h)/(np.sum(w*dik))\n",
    "print(analysis_1)"
   ]
  },
  {
   "cell_type": "code",
   "execution_count": 167,
   "id": "ac991609",
   "metadata": {},
   "outputs": [
    {
     "name": "stdout",
     "output_type": "stream",
     "text": [
      "14 16\n"
     ]
    },
    {
     "name": "stderr",
     "output_type": "stream",
     "text": [
      "<>:23: SyntaxWarning: list indices must be integers or slices, not tuple; perhaps you missed a comma?\n",
      "<>:23: SyntaxWarning: list indices must be integers or slices, not tuple; perhaps you missed a comma?\n",
      "/var/folders/ph/gnz9scgj5491zgp3rggx75kr0000gp/T/ipykernel_866/3403980656.py:23: SyntaxWarning: list indices must be integers or slices, not tuple; perhaps you missed a comma?\n",
      "  [np.mean(dxk), np.mean(dyk**2), np.mean(dxk*dyk), np.mean((dxk**2)*dyk)]\n",
      "/var/folders/ph/gnz9scgj5491zgp3rggx75kr0000gp/T/ipykernel_866/3403980656.py:23: SyntaxWarning: list indices must be integers or slices, not tuple; perhaps you missed a comma?\n",
      "  [np.mean(dxk), np.mean(dyk**2), np.mean(dxk*dyk), np.mean((dxk**2)*dyk)]\n",
      "/var/folders/ph/gnz9scgj5491zgp3rggx75kr0000gp/T/ipykernel_866/3403980656.py:23: SyntaxWarning: list indices must be integers or slices, not tuple; perhaps you missed a comma?\n",
      "  [np.mean(dxk), np.mean(dyk**2), np.mean(dxk*dyk), np.mean((dxk**2)*dyk)]\n"
     ]
    },
    {
     "ename": "IndexError",
     "evalue": "invalid index to scalar variable.",
     "output_type": "error",
     "traceback": [
      "\u001b[0;31m---------------------------------------------------------------------------\u001b[0m",
      "\u001b[0;31mIndexError\u001b[0m                                Traceback (most recent call last)",
      "Cell \u001b[0;32mIn[167], line 37\u001b[0m\n\u001b[1;32m     34\u001b[0m     BLvalue \u001b[38;5;241m=\u001b[39m g_h[BLindex_j, BLindex_i]\n\u001b[1;32m     35\u001b[0m     \u001b[38;5;28;01mreturn\u001b[39;00m \n\u001b[0;32m---> 37\u001b[0m test \u001b[38;5;241m=\u001b[39m \u001b[43mbilienar_interp\u001b[49m\u001b[43m(\u001b[49m\u001b[43mx_ob\u001b[49m\u001b[43m[\u001b[49m\u001b[38;5;241;43m0\u001b[39;49m\u001b[43m]\u001b[49m\u001b[43m,\u001b[49m\u001b[43m \u001b[49m\u001b[43my_ob\u001b[49m\u001b[43m[\u001b[49m\u001b[38;5;241;43m0\u001b[39;49m\u001b[43m]\u001b[49m\u001b[43m,\u001b[49m\u001b[43m \u001b[49m\u001b[43mx_g_m\u001b[49m\u001b[43m,\u001b[49m\u001b[43m \u001b[49m\u001b[43my_g_m\u001b[49m\u001b[43m)\u001b[49m\n\u001b[1;32m     38\u001b[0m \u001b[38;5;28mprint\u001b[39m (test)\n",
      "Cell \u001b[0;32mIn[167], line 15\u001b[0m, in \u001b[0;36mbilienar_interp\u001b[0;34m(x_ob, y_ob, x_g_m, y_g_m)\u001b[0m\n\u001b[1;32m     13\u001b[0m four_xs \u001b[38;5;241m=\u001b[39m x_g_m[BLindex_i:BLindex_i\u001b[38;5;241m+\u001b[39m\u001b[38;5;241m2\u001b[39m,BLindex_j:BLindex_j\u001b[38;5;241m+\u001b[39m\u001b[38;5;241m2\u001b[39m]\n\u001b[1;32m     14\u001b[0m four_ys \u001b[38;5;241m=\u001b[39m y_g_m[BLindex_i:BLindex_i\u001b[38;5;241m+\u001b[39m\u001b[38;5;241m2\u001b[39m,BLindex_j:BLindex_j\u001b[38;5;241m+\u001b[39m\u001b[38;5;241m2\u001b[39m]\n\u001b[0;32m---> 15\u001b[0m four_ghs \u001b[38;5;241m=\u001b[39m \u001b[43manalysis_1\u001b[49m\u001b[43m[\u001b[49m\u001b[43mBLindex_i\u001b[49m\u001b[43m:\u001b[49m\u001b[43mBLindex_i\u001b[49m\u001b[38;5;241;43m+\u001b[39;49m\u001b[38;5;241;43m2\u001b[39;49m\u001b[43m,\u001b[49m\u001b[43mBLindex_j\u001b[49m\u001b[43m:\u001b[49m\u001b[43mBLindex_j\u001b[49m\u001b[38;5;241;43m+\u001b[39;49m\u001b[38;5;241;43m2\u001b[39;49m\u001b[43m]\u001b[49m\n\u001b[1;32m     17\u001b[0m dxk \u001b[38;5;241m=\u001b[39m x_ob \u001b[38;5;241m-\u001b[39m four_xs\n\u001b[1;32m     18\u001b[0m dyk \u001b[38;5;241m=\u001b[39m y_ob \u001b[38;5;241m-\u001b[39m four_ys\n",
      "\u001b[0;31mIndexError\u001b[0m: invalid index to scalar variable."
     ]
    }
   ],
   "source": [
    "### Create function for bilinear interpolation ###\n",
    "def bilienar_interp(x_ob, y_ob, x_g_m, y_g_m):\n",
    "    x_k = x_ob*100\n",
    "    y_k = y_ob*100\n",
    "    index_x = ((x_k - x0) / delx)\n",
    "    index_y = ((y_k - y0) / dely)\n",
    "\n",
    "    #flip x,y to j,i because rows then columns in python\n",
    "    BLindex_j = int(np.floor(index_x))\n",
    "    BLindex_i = int(np.floor(index_y))\n",
    "\n",
    "    print(BLindex_i,BLindex_i+2)\n",
    "    four_xs = x_g_m[BLindex_i:BLindex_i+2,BLindex_j:BLindex_j+2]\n",
    "    four_ys = y_g_m[BLindex_i:BLindex_i+2,BLindex_j:BLindex_j+2]\n",
    "    four_ghs = analysis_1[BLindex_i:BLindex_i+2,BLindex_j:BLindex_j+2]\n",
    "\n",
    "    dxk = x_ob - four_xs\n",
    "    dyk = y_ob - four_ys\n",
    "\n",
    "    # print(four_ghs)\n",
    "\n",
    "    a_matrix = ([1, np.mean(dxk), np.mean(dyk), np.mean(dxk*dyk)],\n",
    "             [np.mean(dxk), np.mean(dyk**2), np.mean(dxk*dyk), np.mean((dxk**2)*dyk)]\n",
    "             [np.mean(dyk), np.mean(dxk*dyk), np.mean(dyk**2), np.mean(dxk*(dyk**2))]\n",
    "             [np.mean(dxk*dyk), np.mean((dxk**2)*dyk), np.mean(dxk*(dyk**2)), np.mean((dxk**2)(dyk**2))])\n",
    "    \n",
    "    b_matrix = ([analysis_1,\n",
    "                 np.mean(dxk),\n",
    "                 np.mean(dyk),\n",
    "                 np.mean(dxk*dyk)])\n",
    "\n",
    "    coef = np.linalg.inv(a_matrix)*b_matrix\n",
    "\n",
    "    BLvalue = g_h[BLindex_j, BLindex_i]\n",
    "    return \n",
    "\n",
    "test = bilienar_interp(x_ob[0], y_ob[0], x_g_m, y_g_m)\n",
    "print (test)"
   ]
  },
  {
   "cell_type": "code",
   "execution_count": null,
   "id": "4bca0a81",
   "metadata": {},
   "outputs": [],
   "source": [
    "### Next Analyses ###\n",
    "f_aj = analysis_1 + np.sum(something*dik(fo-fa))"
   ]
  },
  {
   "cell_type": "code",
   "execution_count": null,
   "id": "49d5d9ef",
   "metadata": {},
   "outputs": [],
   "source": [
    "### Calculate Analysis Differences\n",
    "f_a_diff = f_aj - analysis_1"
   ]
  },
  {
   "cell_type": "code",
   "execution_count": null,
   "id": "89c8ecdc",
   "metadata": {},
   "outputs": [],
   "source": [
    "### Plot 500mb analyses over a map ###\n",
    "#use old code...\n",
    "\n",
    "proj = ccrs.Stereographic(central_longitude=-115,central_latitude=90,true_scale_latitude=60)\n",
    "fig = plt.figure(figsize=(8,8),dpi=200)\n",
    "ax1 = fig.add_subplot(111,projection=proj)\n",
    "ax1.add_feature(cfeature.STATES)\n",
    "ax1.add_feature(cfeature.COASTLINE)\n",
    "\n",
    "#plot analysis (MAY NEED TO CHANGE VARIABLE NAMES/INDICES)#\n",
    "cs1 = ax1.contour(lamda,psi,analysis_10[:,:],colors='k',levels=np.arange(0,8000,60),transform=ccrs.PlateCarree())\n",
    "plt.clabel(cs1,levels=np.arange(0,8000,60))\n",
    "plt.show()\n",
    "\n",
    "#for roi20\n",
    "proj = ccrs.Stereographic(central_longitude=-115,central_latitude=90,true_scale_latitude=60)\n",
    "fig = plt.figure(figsize=(8,8),dpi=200)\n",
    "ax1 = fig.add_subplot(111,projection=proj)\n",
    "ax1.add_feature(cfeature.STATES)\n",
    "ax1.add_feature(cfeature.COASTLINE)\n",
    "\n",
    "#plot analysis (MAY NEED TO CHANGE VARIABLE NAMES/INDICES)#\n",
    "cs1 = ax1.contour(lamda,psi,analysis_20[:,:],colors='k',levels=np.arange(0,8000,60),transform=ccrs.PlateCarree())\n",
    "plt.clabel(cs1,levels=np.arange(0,8000,60))\n",
    "plt.show()"
   ]
  },
  {
   "cell_type": "code",
   "execution_count": null,
   "id": "fa70d076",
   "metadata": {},
   "outputs": [],
   "source": [
    "### Plot Analysis Differences ###\n"
   ]
  },
  {
   "cell_type": "code",
   "execution_count": null,
   "id": "b141bb9c",
   "metadata": {},
   "outputs": [],
   "source": [
    "### Store the analyses in text files ###\n",
    "with open('analyses_10cm.txt','wb') as f:\n",
    "    for line in analysis_10:\n",
    "        np.savetxt(f, line, fmt='%.2f')\n",
    "\n",
    "with open('analyses_20cm.txt','wb') as f:\n",
    "    for line in analysis_20:\n",
    "        np.savetxt(f, line, fmt='%.2f')\n"
   ]
  },
  {
   "cell_type": "code",
   "execution_count": null,
   "id": "67e29b4a",
   "metadata": {},
   "outputs": [],
   "source": [
    "### Store the difference fields in text files ###\n",
    "with open('analyses_10cm.txt','wb') as f:\n",
    "    for line in analysis_10:\n",
    "        np.savetxt(f, line, fmt='%.2f')\n",
    "\n",
    "with open('analyses_20cm.txt','wb') as f:\n",
    "    for line in analysis_20:\n",
    "        np.savetxt(f, line, fmt='%.2f')\n"
   ]
  },
  {
   "cell_type": "code",
   "execution_count": null,
   "id": "dc488357",
   "metadata": {},
   "outputs": [],
   "source": [
    "### Store RMS values in text file ###\n",
    "with open('analyses_10cm.txt','wb') as f:\n",
    "    for line in analysis_10:\n",
    "        np.savetxt(f, line, fmt='%.2f')\n",
    "\n",
    "with open('analyses_20cm.txt','wb') as f:\n",
    "    for line in analysis_20:\n",
    "        np.savetxt(f, line, fmt='%.2f')\n"
   ]
  },
  {
   "cell_type": "code",
   "execution_count": null,
   "id": "661c6680",
   "metadata": {},
   "outputs": [],
   "source": [
    "### In a separte text file (or below), answer the following questions ###\n",
    "'''\n",
    "1 - Describe the general features that you see in your contoured analyses.\n",
    "    \n",
    "\n",
    "2 - Describe the differences that you see in your contoured analyses.  \n",
    "    Does one analysis seem to be smoother than the other?  If so, what would cause this?\n",
    "    \n",
    "\n",
    "3 - What happens as you increase the number of successive correction passes?  Is this \n",
    "    desirable?  Why or why not?\n",
    "    \n",
    "\n",
    "'''"
   ]
  }
 ],
 "metadata": {
  "kernelspec": {
   "display_name": "atsc528",
   "language": "python",
   "name": "python3"
  },
  "language_info": {
   "codemirror_mode": {
    "name": "ipython",
    "version": 3
   },
   "file_extension": ".py",
   "mimetype": "text/x-python",
   "name": "python",
   "nbconvert_exporter": "python",
   "pygments_lexer": "ipython3",
   "version": "3.10.14"
  }
 },
 "nbformat": 4,
 "nbformat_minor": 5
}
