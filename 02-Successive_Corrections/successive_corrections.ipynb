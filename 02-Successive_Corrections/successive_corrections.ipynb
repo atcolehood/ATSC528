{
 "cells": [
  {
   "cell_type": "code",
   "execution_count": 1,
   "id": "55c27f76",
   "metadata": {},
   "outputs": [],
   "source": [
    "\"\"\"\n",
    "Created By    : Jared W. Marquis\n",
    "Creation Date : 01 August 2022\n",
    "Course        : ATSC 528 - Atmospheric Data Analysis\n",
    "Assignment    : #02 - Successive Corrections\n",
    "\n",
    "Purpose:\n",
    "Script to take sparse upper air observations and analyze them on a\n",
    "polar stereographic map projection using successive corrections.\n",
    "[PUT MORE INFORMATION HERE - I.E., WHAT SPECIFIC THING IS BEING DONE]\n",
    "\n",
    "\"\"\"\n",
    "__author__    = \"Jared W. Marquis\"\n",
    "__contact__   = \"jared.marquis@und.edu\""
   ]
  },
  {
   "cell_type": "code",
   "execution_count": 2,
   "id": "7335135f",
   "metadata": {},
   "outputs": [],
   "source": [
    "### Import Required Modules (shouldn't need to change) ###\n",
    "import numpy as np                 #numpy for math\n",
    "import matplotlib.pyplot as plt    #matplotlib for plotting\n",
    "import cartopy.crs as ccrs         #cartopy for plotting on map\n",
    "import cartopy.feature as cfeature #cartopy basic shapefiles"
   ]
  },
  {
   "cell_type": "code",
   "execution_count": 3,
   "id": "e55bf048",
   "metadata": {},
   "outputs": [
    {
     "name": "stdout",
     "output_type": "stream",
     "text": [
      "[51.47 43.83 53.55 53.75 64.3  69.1  80.   68.3  63.75 48.53 82.52 51.27\n",
      " 58.47 53.97 74.72 43.93 60.02 68.78 58.1  65.28 58.83 58.75 53.32 50.68\n",
      " 50.22 53.9  35.05 45.45 57.75 40.35 58.68 40.17 42.75 35.23 61.17 55.03\n",
      " 45.07 32.5  60.78 46.77 33.57 36.13 43.57 25.9  71.3  42.93 35.97 46.87\n",
      " 55.2  41.66 32.9  27.77 37.77 39.86 29.37 32.17 39.78 29.37 42.7  41.62\n",
      " 31.87 24.55 64.82 33.37 35.23 38.95 32.79 48.22 39.13 44.48 36.08 43.89\n",
      " 38.95 39.43 40.15 48.57 19.72 32.32 30.5  18.43 10.58 41.13 30.12 34.73\n",
      " 40.87 34.83 31.95 19.43 25.75 42.37 34.78 25.82 44.83 23.18 27.7  30.23\n",
      " 32.85 24.57 33.02 37.73 41.32 35.4  40.87 64.5  47.7  66.87 35.22 40.67\n",
      " 40.5  44.05 39.57 43.07 43.23 37.2   9.98 18.43 37.23 32.47 30.25 40.78\n",
      " 44.92 57.16 27.7  47.46 30.4  39.07 32.12 47.95 44.07 36.05 37.93 32.37\n",
      " 59.52 46.38 60.72]\n"
     ]
    }
   ],
   "source": [
    "### Read in observations ###\n",
    "directory = \"/Users/techadmin/ATMO528/ATSC528/\"\n",
    "filename = \"RAOBs_201903131200.txt\"\n",
    "data_str = np.loadtxt(\"RAOBs_201903131200.txt\", delimiter = ',', dtype = str)\n",
    "# file = open(directory + filename)\n",
    "# data = file.read()\n",
    "latitude = data_str[:, 1].astype(float)\n",
    "longitude = data_str[:, 2].astype(float)\n",
    "g_h = data_str[:, 3].astype(float)\n",
    "\n",
    "print(latitude)"
   ]
  },
  {
   "cell_type": "code",
   "execution_count": 4,
   "id": "9464917a",
   "metadata": {},
   "outputs": [
    {
     "name": "stdout",
     "output_type": "stream",
     "text": [
      "[ 0  1  2  3  4  5  6  7  8  9 10 11 12 13 14 15 16 17 18 19 20 21]\n",
      "(28, 22)\n"
     ]
    }
   ],
   "source": [
    "### Set up analysis map with a 22x28 rectangular grid of points ###\n",
    "phi0 = np.radians(60) #phi naught , 60N\n",
    "psi0 = np.radians(90)-phi0\n",
    "lambda0 = -115 #lamda naught, 115W\n",
    "delx = 1.27 #cm\n",
    "dely = 1.27 #cm\n",
    "x0 = 18.90 #cm\n",
    "y0 = -6.30 #cm \n",
    "x_range = np.arange(22)\n",
    "y_range = np.arange(28)\n",
    "print(x_range)\n",
    "x_calculation = x0 + (delx*x_range) \n",
    "y_calculation = y0 + (dely*y_range)\n",
    "rho = 6371000 #meters\n",
    "map_scale = 1/15000000 #15 million\n",
    "\n",
    "x = np.array(x_calculation)\n",
    "y = np.array(y_calculation)\n",
    "x_g, y_g = np.meshgrid(x,y)\n",
    "print(x_g.shape) "
   ]
  },
  {
   "cell_type": "code",
   "execution_count": 11,
   "id": "64629e3a",
   "metadata": {},
   "outputs": [
    {
     "name": "stdout",
     "output_type": "stream",
     "text": [
      "(28, 22)\n"
     ]
    },
    {
     "data": {
      "text/plain": [
       "<matplotlib.colorbar.Colorbar at 0x7fbdd273b4f0>"
      ]
     },
     "execution_count": 11,
     "metadata": {},
     "output_type": "execute_result"
    },
    {
     "data": {
      "image/png": "[encoded data removed]",
      "text/plain": [
       "<Figure size 640x480 with 2 Axes>"
      ]
     },
     "metadata": {},
     "output_type": "display_data"
    }
   ],
   "source": [
    "### convert obs lat/long to x,y ###\n",
    "x_g_m = x_g/100\n",
    "y_g_m = y_g/100\n",
    "print(x_g_m.shape)\n",
    "numer = (((((x_g_m)/map_scale)**2)+(((y_g_m)/map_scale)**2))**(1/2))\n",
    "denom = rho*(1+(np.cos(psi0)))\n",
    "psi = (np.pi/2) - (2*(np.arctan(numer/denom))) #x-cord, y-cord to latitude?\n",
    "psi = np.degrees(psi)\n",
    "\n",
    "lamda = (np.degrees(np.arctan(y_g_m/x_g_m)))+lambda0 #x-cord, y-cord to longitude?\n",
    "# print(lamda)\n",
    "\n",
    "# print(psi,lamda)\n",
    "plt.imshow(lamda)\n",
    "plt.colorbar()"
   ]
  },
  {
   "cell_type": "code",
   "execution_count": 49,
   "id": "fdc35da3",
   "metadata": {},
   "outputs": [
    {
     "name": "stdout",
     "output_type": "stream",
     "text": [
      "D_min = 2.5548700820071413\n"
     ]
    }
   ],
   "source": [
    "### Create function for Cressman Analysis ###\n",
    "sigma = ((1+np.sin(np.radians(60)))/(1+np.sin(np.radians(latitude))))\n",
    "\n",
    "x_ob = rho*sigma*(np.cos(np.radians(latitude)))*(np.cos(np.radians(longitude)+np.radians(115))) #converting coords to x\n",
    "y_ob = rho*sigma*(np.cos(np.radians(latitude)))*(np.sin(np.radians(longitude)+np.radians(115))) #converting coords to y\n",
    "# print(y_ob.shape)\n",
    "x_ob = x_ob * map_scale\n",
    "y_ob = y_ob * map_scale\n",
    "# print('x_ob', x_ob)\n",
    "# print('y_ob', y_ob)\n",
    "dmin = 0.0\n",
    "\n",
    "# for i in range(len(x_g_m)):\n",
    "#     for j in range(len(x_g_m[i])):\n",
    "for i in range(len(x_ob)):\n",
    "      # distance_analysis_to_ob = np.sqrt(((x_g_m[i,j]-x_ob)**2)+((y_g_m[i,j]-y_ob)**2))\n",
    "      distance_ob_to_ob = np.sqrt(((x_ob[i]-x_ob)**2)+((y_ob[i]-y_ob)**2))\n",
    "      # print(\"with zero =\",len(distance_ob_to_ob))\n",
    "      distance_ob_to_ob = np.delete(distance_ob_to_ob,i)\n",
    "      #distance_ob_to_ob = distance_ob_to_ob[distance_ob_to_ob>1e-10] #------------told in class that dmin = avg minimum distance between obs.\n",
    "      # print(\"without zero =\",len(distance_ob_to_ob))\n",
    "      #print('distance_ob_to_ob', distance_ob_to_ob)\n",
    "      #print('distance_ob_to_ob_shape', distance_ob_to_ob.min())\n",
    "      dmin = dmin + np.amin(distance_ob_to_ob)   \n",
    "      # print('dmin is', dmin)\n",
    "      #dmin = distance_ob_to_ob.min()\n",
    "      # print(temp)\n",
    "\n",
    "dmin = dmin/len(x_ob)\n",
    "\n",
    "dmin = dmin *100 #converting to cm?\n",
    "print('D_min =',dmin)\n",
    "\n",
    "\n",
    "def cressman(R, dik):\n",
    "    if dik <= R:\n",
    "      numerator = (R**2) - (dik**2)\n",
    "      denominator = (R**2) + (dik**2)\n",
    "      something = numerator / denominator #renamed weight as something such as easier naming for later\n",
    "      return something\n",
    "    if dik > R:\n",
    "       return 0\n",
    "    \n",
    "    \n",
    "    \"\"\"\n",
    "    Function to analyze the value at a given point from other data\n",
    "    using a Cressman analysis technique.\n",
    "    \n",
    "    inputs:\n",
    "      something = something\n",
    "      \n",
    "    returns:\n",
    "      something = something\n",
    "    \"\"\"\n",
    "    \n",
    "    # return something"
   ]
  },
  {
   "cell_type": "code",
   "execution_count": null,
   "id": "ac991609",
   "metadata": {},
   "outputs": [],
   "source": [
    "### Create function for bilinear interpolation ###\n",
    "def bilienar_interp(x_ob):\n",
    "    x_k = \n",
    "    y_k = \n",
    "    index_x = ((x_k - x0) / delx).index\n",
    "    index_y = ((y_k - y0) / dely).index\n",
    "    TLindex_x = floor(index_x)\n",
    "    TLindex_y = floor(index_y)\n",
    "    TLvalue = g_h[TLindex_x, TLindex_y]\n",
    "\n",
    "\n",
    "    # for i in range(len(x_ob)):\n",
    "    #     inverted = np.matrix([[1, x_ob[i], y_ob[i], x_ob[i]*y_ob[i]],\n",
    "    #                         [1, x_ob[i], y_ob[i+1], x_ob[i]*y_ob[i+1]],\n",
    "    #                         [1, x_ob[i+1], y_ob[i], x_ob[i+1]*y_ob[i]],\n",
    "    #                         [1, x_ob[i+1], y_ob[i+1], x_ob[i+1]*y_ob[i+1]]])\n",
    "    #     fQ11 = g_h[i]\n",
    "    #     fQ12 = \n",
    "    #     fQ21 = \n",
    "    #     fQ22 = \n",
    "    #     normal = np.matrix([[fQ11],\n",
    "    #                             [fQ12],\n",
    "    #                             [fQ21],\n",
    "    #                             [fQ22]])\n",
    "    #     coefficients = normal * np.linalg.inv(inverted)\n",
    "    #     return coefficients"
   ]
  },
  {
   "cell_type": "code",
   "execution_count": null,
   "id": "8d5634ab",
   "metadata": {},
   "outputs": [],
   "source": [
    "### Perform 500mb geopotential height analyses using a Cressman weighting Function###\n",
    "#Use radii of influence 4, 2.5, 1.5 *dmin\n",
    "R1 = 4*dmin\n",
    "R2 = 2.5*dmin\n",
    "R3 = 1.5*dmin"
   ]
  },
  {
   "cell_type": "code",
   "execution_count": null,
   "id": "c4450fdd",
   "metadata": {},
   "outputs": [],
   "source": [
    "### First analysis, no successive corrections ###\n"
   ]
  },
  {
   "cell_type": "code",
   "execution_count": null,
   "id": "4bca0a81",
   "metadata": {},
   "outputs": [],
   "source": [
    "### Next Analyses ###"
   ]
  },
  {
   "cell_type": "code",
   "execution_count": null,
   "id": "49d5d9ef",
   "metadata": {},
   "outputs": [],
   "source": [
    "### Calculate Analysis Differences\n"
   ]
  },
  {
   "cell_type": "code",
   "execution_count": null,
   "id": "89c8ecdc",
   "metadata": {},
   "outputs": [],
   "source": [
    "### Plot 500mb analyses over a map ###\n",
    "#use old code...\n",
    "\n",
    "proj = ccrs.Stereographic(central_longitude=-115,central_latitude=90,true_scale_latitude=60)\n",
    "fig = plt.figure(figsize=(8,8),dpi=200)\n",
    "ax1 = fig.add_subplot(111,projection=proj)\n",
    "ax1.add_feature(cfeature.STATES)\n",
    "ax1.add_feature(cfeature.COASTLINE)\n",
    "\n",
    "#plot analysis (MAY NEED TO CHANGE VARIABLE NAMES/INDICES)#\n",
    "cs1 = ax1.contour(lamda,psi,analysis_10[:,:],colors='k',levels=np.arange(0,8000,60),transform=ccrs.PlateCarree())\n",
    "plt.clabel(cs1,levels=np.arange(0,8000,60))\n",
    "plt.show()\n",
    "\n",
    "#for roi20\n",
    "proj = ccrs.Stereographic(central_longitude=-115,central_latitude=90,true_scale_latitude=60)\n",
    "fig = plt.figure(figsize=(8,8),dpi=200)\n",
    "ax1 = fig.add_subplot(111,projection=proj)\n",
    "ax1.add_feature(cfeature.STATES)\n",
    "ax1.add_feature(cfeature.COASTLINE)\n",
    "\n",
    "#plot analysis (MAY NEED TO CHANGE VARIABLE NAMES/INDICES)#\n",
    "cs1 = ax1.contour(lamda,psi,analysis_20[:,:],colors='k',levels=np.arange(0,8000,60),transform=ccrs.PlateCarree())\n",
    "plt.clabel(cs1,levels=np.arange(0,8000,60))\n",
    "plt.show()"
   ]
  },
  {
   "cell_type": "code",
   "execution_count": null,
   "id": "fa70d076",
   "metadata": {},
   "outputs": [],
   "source": [
    "### Plot Analysis Differences ###\n"
   ]
  },
  {
   "cell_type": "code",
   "execution_count": null,
   "id": "b141bb9c",
   "metadata": {},
   "outputs": [],
   "source": [
    "### Store the analyses in text files ###\n",
    "with open('analyses_10cm.txt','wb') as f:\n",
    "    for line in analysis_10:\n",
    "        np.savetxt(f, line, fmt='%.2f')\n",
    "\n",
    "with open('analyses_20cm.txt','wb') as f:\n",
    "    for line in analysis_20:\n",
    "        np.savetxt(f, line, fmt='%.2f')\n"
   ]
  },
  {
   "cell_type": "code",
   "execution_count": null,
   "id": "67e29b4a",
   "metadata": {},
   "outputs": [],
   "source": [
    "### Store the difference fields in text files ###\n",
    "with open('analyses_10cm.txt','wb') as f:\n",
    "    for line in analysis_10:\n",
    "        np.savetxt(f, line, fmt='%.2f')\n",
    "\n",
    "with open('analyses_20cm.txt','wb') as f:\n",
    "    for line in analysis_20:\n",
    "        np.savetxt(f, line, fmt='%.2f')\n"
   ]
  },
  {
   "cell_type": "code",
   "execution_count": null,
   "id": "dc488357",
   "metadata": {},
   "outputs": [],
   "source": [
    "### Store RMS values in text file ###\n",
    "with open('analyses_10cm.txt','wb') as f:\n",
    "    for line in analysis_10:\n",
    "        np.savetxt(f, line, fmt='%.2f')\n",
    "\n",
    "with open('analyses_20cm.txt','wb') as f:\n",
    "    for line in analysis_20:\n",
    "        np.savetxt(f, line, fmt='%.2f')\n"
   ]
  },
  {
   "cell_type": "code",
   "execution_count": null,
   "id": "661c6680",
   "metadata": {},
   "outputs": [],
   "source": [
    "### In a separte text file (or below), answer the following questions ###\n",
    "'''\n",
    "1 - Describe the general features that you see in your contoured analyses.\n",
    "    \n",
    "\n",
    "2 - Describe the differences that you see in your contoured analyses.  \n",
    "    Does one analysis seem to be smoother than the other?  If so, what would cause this?\n",
    "    \n",
    "\n",
    "3 - What happens as you increase the number of successive correction passes?  Is this \n",
    "    desirable?  Why or why not?\n",
    "    \n",
    "\n",
    "'''"
   ]
  }
 ],
 "metadata": {
  "kernelspec": {
   "display_name": "atsc528",
   "language": "python",
   "name": "python3"
  },
  "language_info": {
   "codemirror_mode": {
    "name": "ipython",
    "version": 3
   },
   "file_extension": ".py",
   "mimetype": "text/x-python",
   "name": "python",
   "nbconvert_exporter": "python",
   "pygments_lexer": "ipython3",
   "version": "3.10.14"
  }
 },
 "nbformat": 4,
 "nbformat_minor": 5
}
