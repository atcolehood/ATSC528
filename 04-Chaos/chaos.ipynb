{
 "cells": [
  {
   "cell_type": "code",
   "execution_count": 2,
   "id": "55c27f76",
   "metadata": {},
   "outputs": [],
   "source": [
    "\"\"\"\n",
    "Created By    : Jared W. Marquis\n",
    "Creation Date : 01 August 2022\n",
    "Course        : ATSC 528 - Atmospheric Data Analysis\n",
    "Assignment    : #04 - Chaos\n",
    "\n",
    "Purpose:\n",
    "Script to examine how chaos manifests in simple model.\n",
    "[PUT MORE INFORMATION HERE - I.E., WHAT SPECIFIC THING IS BEING DONE]\n",
    "\n",
    "\"\"\"\n",
    "__author__    = \"Jared W. Marquis\"\n",
    "__contact__   = \"jared.marquis@und.edu\""
   ]
  },
  {
   "cell_type": "code",
   "execution_count": 3,
   "id": "7335135f",
   "metadata": {},
   "outputs": [],
   "source": [
    "### Import Required Modules (shouldn't need to change) ###\n",
    "import numpy as np                 #numpy for math\n",
    "import matplotlib.pyplot as plt    #matplotlib for plotting\n",
    "import cartopy.crs as ccrs         #cartopy for plotting on map\n",
    "import cartopy.feature as cfeature #cartopy basic shapefiles\n"
   ]
  },
  {
   "cell_type": "code",
   "execution_count": null,
   "id": "70c88931",
   "metadata": {},
   "outputs": [],
   "source": [
    "t_end = 120 #days\n",
    "t_start = 0 #days\n",
    "del_t = 4 #hours\n",
    "t_norm = 5 #days\n",
    "\n",
    "t_end_norm = 24\n",
    "t_start_norm = 0\n",
    "del_t_norm = 1/30 #4/24.5 = 4/120 = 1/30\n",
    "time_steps = t_end_norm/del_t_norm # = 24/(1/20) = 720\n",
    "\n",
    "a = 0.25\n",
    "b = 4.0\n",
    "F = 8.0\n",
    "G = 1.0\n",
    "\n",
    "x_t0 = 2.5 #2.49? #circumpolar westerlies \n",
    "y_t0 = 1.0 #1.0? #cos(waves)\n",
    "z_t0 = 0.0 #0.0  #sin(waves)\n",
    "\n",
    "x = np.zeroes(time_steps)\n",
    "y = np.zeroes(time_steps)\n",
    "z = np.zeroes(time_steps)\n",
    "\n",
    "for dt in range(1,len(x)):\n",
    "    dxdt = -y[dt-1]**2 -z[dt-1]**2 -a*x[dt-1] +a*F\n",
    "    dydt = x[dt-1]*y[dt-1] - b*x[dt-1]*z[dt-1] -y[dt-1] +G\n",
    "    dzdt = b*x[dt-1]*y[dt-1] + x[dt-1]*z[dt-1] -z[dt-1]\n",
    "\n",
    "    x[dt] = x[dt-1]+del_t_norm*dxdt\n",
    "    y[dt] = y[dt-1]+del_t_norm*dydt\n",
    "    z[dt] = z[dt-1]+del_t_norm*dzdt\n",
    "\n",
    "# x_of_t_plus_del_t = x_of_t + del_t*dxdt #dxdt(t)? --> x_of_t + del_t[-y(t)**2 -z(t)**2 -ax(t)**2 +A*F]\n",
    "# y_of_t_plus_del_t = y_of_t + del_t*dydt #dydt(t)?\n",
    "# z_of_t_plus_del_t = z_of_t + del_t*dzdt #dzdt(t)?"
   ]
  },
  {
   "cell_type": "code",
   "execution_count": null,
   "id": "d5507f28",
   "metadata": {},
   "outputs": [],
   "source": [
    "### In a separte text file (or below), provide a discussion of your results ###\n",
    "### Make sure to answer the following questions in your discussion          ###\n",
    "### 1 - Are the two simulations the same throughout the entire period?      ###\n",
    "###     If not, when do they diverge?                                       ###\n",
    "### 2 - If the ending points are different, what does this say regarding    ###\n",
    "###     the importance of providing NWP models, assuming this serves as a   ###\n",
    "###     proxy for one, with accurate and balanced initial conditions?       ###\n",
    "'''\n",
    "    \n",
    "\n",
    "'''"
   ]
  }
 ],
 "metadata": {
  "kernelspec": {
   "display_name": "Python 3 (ipykernel)",
   "language": "python",
   "name": "python3"
  },
  "language_info": {
   "codemirror_mode": {
    "name": "ipython",
    "version": 3
   },
   "file_extension": ".py",
   "mimetype": "text/x-python",
   "name": "python",
   "nbconvert_exporter": "python",
   "pygments_lexer": "ipython3",
   "version": "3.10.4"
  }
 },
 "nbformat": 4,
 "nbformat_minor": 5
}
